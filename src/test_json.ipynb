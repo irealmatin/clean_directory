{
 "cells": [
  {
   "cell_type": "code",
   "execution_count": 1,
   "id": "05860840-dfd3-40e1-8e80-024ee369f0c8",
   "metadata": {},
   "outputs": [],
   "source": [
    "dict_={\n",
    "            'images' : ['.jpg','.jpeg','.png','.gif','.bmp'] ,\n",
    "            'videos' : ['.mp4','.mkv' , '.avi','.mov'] ,\n",
    "            'audio' : ['.mp3','.wav','.flac','.aac'] ,\n",
    "            'documents' : ['.txt' ,'.pdf' , '.doc' , '.docx' , '.xls' , '.xlsx' , '.ppt' , '.pptx'] ,\n",
    "            'compressed' : ['.zip' , '.rar' , '.7z' , '.tar' , '.gz' , '.bz2'] ,\n",
    "            'executables' : ['.exe' , '.msi' , '.apk' , '.dmg'] ,\n",
    "            'torrents' : ['.torrent'],\n",
    "        }"
   ]
  },
  {
   "cell_type": "code",
   "execution_count": 3,
   "id": "bfd3848d-8395-4ac2-93da-b49755b32644",
   "metadata": {},
   "outputs": [],
   "source": [
    "import json"
   ]
  },
  {
   "cell_type": "code",
   "execution_count": 4,
   "id": "a0d6f10b-9327-46e2-b2d8-8e9c2b7f1b12",
   "metadata": {},
   "outputs": [
    {
     "name": "stdout",
     "output_type": "stream",
     "text": [
      "{\n",
      "  \"images\": [\n",
      "    \".jpg\",\n",
      "    \".jpeg\",\n",
      "    \".png\",\n",
      "    \".gif\",\n",
      "    \".bmp\"\n",
      "  ],\n",
      "  \"videos\": [\n",
      "    \".mp4\",\n",
      "    \".mkv\",\n",
      "    \".avi\",\n",
      "    \".mov\"\n",
      "  ],\n",
      "  \"audio\": [\n",
      "    \".mp3\",\n",
      "    \".wav\",\n",
      "    \".flac\",\n",
      "    \".aac\"\n",
      "  ],\n",
      "  \"documents\": [\n",
      "    \".txt\",\n",
      "    \".pdf\",\n",
      "    \".doc\",\n",
      "    \".docx\",\n",
      "    \".xls\",\n",
      "    \".xlsx\",\n",
      "    \".ppt\",\n",
      "    \".pptx\"\n",
      "  ],\n",
      "  \"compressed\": [\n",
      "    \".zip\",\n",
      "    \".rar\",\n",
      "    \".7z\",\n",
      "    \".tar\",\n",
      "    \".gz\",\n",
      "    \".bz2\"\n",
      "  ],\n",
      "  \"executables\": [\n",
      "    \".exe\",\n",
      "    \".msi\",\n",
      "    \".apk\",\n",
      "    \".dmg\"\n",
      "  ],\n",
      "  \"torrents\": [\n",
      "    \".torrent\"\n",
      "  ]\n",
      "}\n"
     ]
    }
   ],
   "source": [
    "print(json.dumps(dict_ , indent = 2))"
   ]
  },
  {
   "cell_type": "code",
   "execution_count": null,
   "id": "0928c4d0-262d-4a43-a0db-1f06a0bad90c",
   "metadata": {},
   "outputs": [],
   "source": []
  }
 ],
 "metadata": {
  "kernelspec": {
   "display_name": "Python 3 (ipykernel)",
   "language": "python",
   "name": "python3"
  },
  "language_info": {
   "codemirror_mode": {
    "name": "ipython",
    "version": 3
   },
   "file_extension": ".py",
   "mimetype": "text/x-python",
   "name": "python",
   "nbconvert_exporter": "python",
   "pygments_lexer": "ipython3",
   "version": "3.8.13"
  }
 },
 "nbformat": 4,
 "nbformat_minor": 5
}
